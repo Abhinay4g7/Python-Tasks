{
 "cells": [
  {
   "cell_type": "code",
   "execution_count": null,
   "id": "9207159f",
   "metadata": {},
   "outputs": [
    {
     "name": "stdout",
     "output_type": "stream",
     "text": [
      "Choose operation:\n",
      "+ for addition,\n",
      "- for subtraction,\n",
      "* for multiplication,\n",
      "/ for division\n",
      "Result: 2.0 + 3.0 = 5.0\n"
     ]
    }
   ],
   "source": [
    "# 1. Write a Python program to create a basic calculator that performs the following\n",
    "# operations:\n",
    "# • Addition\n",
    "# • Subtraction\n",
    "# • Multiplication\n",
    "# • Division\n",
    "# Requirements:\n",
    "#  The program should take two numbers as input from the user.\n",
    "#  The program should ask the user to choose the operation (+, -, *, /).\n",
    "#  Based on the user’s choice, perform the corresponding arithmetic operation.\n",
    "#  Handle division by zero error gracefully with a proper message.\n",
    "#  The program should display the result clearly.\n",
    "num1 = float(input(\"Enter the first number: \"))\n",
    "num2 = float(input(\"Enter the second number: \"))\n",
    "print(\"Choose operation:\")\n",
    "print(\"\"\"+ for addition,\n",
    "- for subtraction,\n",
    "* for multiplication,\n",
    "/ for division\"\"\")\n",
    "operation = input(\"Enter operation (+, -, *, /): \")\n",
    "if operation == '+':\n",
    "    result = num1 + num2\n",
    "    print(f\"Result: {num1} + {num2} = {result}\")\n",
    "elif operation == '-':\n",
    "    result = num1 - num2\n",
    "    print(f\"Result: {num1} - {num2} = {result}\")\n",
    "elif operation == '*':\n",
    "    result = num1 * num2\n",
    "    print(f\"Result: {num1} * {num2} = {result}\")\n",
    "elif operation == '/':\n",
    "    if num2 == 0:\n",
    "        print(\"Error: Division by zero is not allowed.\")\n",
    "    else:\n",
    "        result = num1 / num2\n",
    "    print(f\"Result: {num1} / {num2} = {result}\")\n",
    "else:\n",
    "    print(\"Operation is invalid.\")"
   ]
  },
  {
   "cell_type": "code",
   "execution_count": 6,
   "id": "7ebfe57f",
   "metadata": {},
   "outputs": [
    {
     "name": "stdout",
     "output_type": "stream",
     "text": [
      "0\n",
      "1\n",
      "1\n",
      "2\n",
      "3\n",
      "5\n"
     ]
    }
   ],
   "source": [
    "# 2. Write a Python program to print the first N terms of the Fibonacci series using a while loop.\n",
    "n=int(input())\n",
    "a,b=0,1\n",
    "while n>0:\n",
    "    print(a)\n",
    "    a,b=b,a+b\n",
    "    n-=1"
   ]
  },
  {
   "cell_type": "code",
   "execution_count": 12,
   "id": "44a073d7",
   "metadata": {},
   "outputs": [
    {
     "name": "stdout",
     "output_type": "stream",
     "text": [
      "153\n",
      "Amstrong Number\n"
     ]
    }
   ],
   "source": [
    "# 3. Write a program to check whether a number is an Armstrong number using a while loop.\n",
    "# Example: 153 → 1³ + 5³ + 3³ = 153\n",
    "n=int(input())\n",
    "temp=n\n",
    "sum=0\n",
    "while(n>0):\n",
    "    i=n%10\n",
    "    n=n//10\n",
    "    sum+=i**3\n",
    "print(sum)\n",
    "if sum==temp:\n",
    "    print('Amstrong Number')\n",
    "else:\n",
    "    print('Not a Amstrong Number')\n"
   ]
  },
  {
   "cell_type": "code",
   "execution_count": 14,
   "id": "fbc2e9df",
   "metadata": {},
   "outputs": [
    {
     "name": "stdout",
     "output_type": "stream",
     "text": [
      "greatest digit in a given number is 5\n"
     ]
    }
   ],
   "source": [
    "# 4. Write a program to find the greatest digit in a given number using a while loop.\n",
    "n=int(input())\n",
    "max=0\n",
    "while(n>0):\n",
    "    i=n%10\n",
    "    if max<=i:\n",
    "        max=i\n",
    "    n=n//10\n",
    "print(f\"greatest digit in a given number is {max}\")\n",
    "\n"
   ]
  },
  {
   "cell_type": "code",
   "execution_count": 18,
   "id": "3f3ff19c",
   "metadata": {},
   "outputs": [
    {
     "name": "stdout",
     "output_type": "stream",
     "text": [
      "(2, 3, 6)\n",
      "greatest of three numbers is 6\n"
     ]
    }
   ],
   "source": [
    "# 5. Write a program to find greatest(a, b, c) to find the greatest of three numbers.\n",
    "a,b,c=map(int,input().split())\n",
    "t=a,b,c\n",
    "print(tuple(t))\n",
    "max=0\n",
    "for i in t:\n",
    "    if max<=i:\n",
    "        max=i\n",
    "print(f\"greatest of three numbers is {max}\")"
   ]
  },
  {
   "cell_type": "code",
   "execution_count": 1,
   "id": "70c8d80c",
   "metadata": {},
   "outputs": [
    {
     "name": "stdout",
     "output_type": "stream",
     "text": [
      "28\n"
     ]
    }
   ],
   "source": [
    "# 6. Write a function sum_numbers(*args) that accepts any number of arguments and returns their sum.\n",
    "def summ(*args):\n",
    "    print(sum(args))\n",
    "summ(1,2,3,4,5,6,7)"
   ]
  },
  {
   "cell_type": "code",
   "execution_count": 2,
   "id": "df555dd4",
   "metadata": {},
   "outputs": [
    {
     "name": "stdout",
     "output_type": "stream",
     "text": [
      "{'a': 1, 'b': 2, 'c': 3}\n"
     ]
    }
   ],
   "source": [
    "# 7. Write a function display_info(**kwargs) that prints all key-value pairs passed as arguments.\n",
    "def argu(**kwargs):\n",
    "    print(kwargs)\n",
    "argu(a=1,b=2,c=3)"
   ]
  },
  {
   "cell_type": "code",
   "execution_count": 3,
   "id": "72804ebe",
   "metadata": {},
   "outputs": [
    {
     "name": "stdout",
     "output_type": "stream",
     "text": [
      "Sum of Even Numbers 20\n",
      "Sum of Odd Numbers  25\n"
     ]
    }
   ],
   "source": [
    "# 8. Write a Python program to calculate the sum of elements present at even indices and odd indices separately\n",
    "list=[1,2,3,4,5,6,7,8,9]\n",
    "even=0\n",
    "odd=0\n",
    "for i in list:\n",
    "    if i%2==0:\n",
    "        even+=i\n",
    "    else:\n",
    "        odd+=i\n",
    "print(f\"Sum of Even Numbers {even}\")\n",
    "print(f\"Sum of Odd Numbers  {odd}\")"
   ]
  },
  {
   "cell_type": "code",
   "execution_count": 4,
   "id": "d0c6f7f0",
   "metadata": {},
   "outputs": [
    {
     "name": "stdout",
     "output_type": "stream",
     "text": [
      "[1, 4, 3, 8, 5, 12, 7]\n"
     ]
    }
   ],
   "source": [
    "# 9. Write a Python program to double all even numbers in the same list without creating a new list.\n",
    "#  Conditions:\n",
    "# You must modify the list in-place.\n",
    "# Odd numbers should remain unchanged.\n",
    "list=[1,2,3,4,5,6,7]\n",
    "for i in range(len(list)):\n",
    "    if list[i]%2==0:\n",
    "        list[i]=2*list[i]\n",
    "print(list)"
   ]
  },
  {
   "cell_type": "code",
   "execution_count": 5,
   "id": "bb48d9d1",
   "metadata": {},
   "outputs": [
    {
     "name": "stdout",
     "output_type": "stream",
     "text": [
      "[2, 7, 4, 3]\n"
     ]
    }
   ],
   "source": [
    "# 10. Modify the list such that all even numbers are halved, odd numbers remain unchanged.\n",
    "# Example:\n",
    "# Input: [4, 7, 8, 3] → Output: [2, 7, 4, 3]\n",
    "l=[4, 7, 8, 3]\n",
    "for i in range(len(l)):\n",
    "    if l[i]%2==0:\n",
    "        l[i]=l[i]//2\n",
    "print(l)"
   ]
  },
  {
   "cell_type": "code",
   "execution_count": 6,
   "id": "55ad5d6f",
   "metadata": {},
   "outputs": [
    {
     "name": "stdout",
     "output_type": "stream",
     "text": [
      "\n",
      "6 is Perfect Number\n"
     ]
    }
   ],
   "source": [
    "# 11. Check given number is perfect number or not ?\n",
    "n=int(input())\n",
    "res=0\n",
    "for i in range(1,n):\n",
    "    if n%i==0:\n",
    "        res+=i\n",
    "print()\n",
    "if res==n:\n",
    "    print(f\"{n} is Perfect Number\")\n",
    "else:\n",
    "    print(f\"{n} is Not a Perfect Number\")"
   ]
  },
  {
   "cell_type": "code",
   "execution_count": 12,
   "id": "9ec02791",
   "metadata": {},
   "outputs": [
    {
     "name": "stdout",
     "output_type": "stream",
     "text": [
      "Kolar Gold Field\n",
      "KGF\n",
      "olar old ield\n"
     ]
    }
   ],
   "source": [
    "# 12. Write a Python program that takes a sentence as input and separates the uppercase and lowercase letters from the sentence.\n",
    "ip=input(\"Enter a Scentence\")\n",
    "up=''\n",
    "lc=''\n",
    "for i in ip:\n",
    "    if i.isupper():\n",
    "        up+=i\n",
    "    else:\n",
    "        lc+=i\n",
    "print(ip)\n",
    "print(up)\n",
    "print(lc)"
   ]
  },
  {
   "cell_type": "code",
   "execution_count": null,
   "id": "9c804bdd",
   "metadata": {},
   "outputs": [],
   "source": []
  }
 ],
 "metadata": {
  "kernelspec": {
   "display_name": "base",
   "language": "python",
   "name": "python3"
  },
  "language_info": {
   "codemirror_mode": {
    "name": "ipython",
    "version": 3
   },
   "file_extension": ".py",
   "mimetype": "text/x-python",
   "name": "python",
   "nbconvert_exporter": "python",
   "pygments_lexer": "ipython3",
   "version": "3.9.12"
  }
 },
 "nbformat": 4,
 "nbformat_minor": 5
}
