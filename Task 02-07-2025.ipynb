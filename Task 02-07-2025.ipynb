{
 "cells": [
  {
   "cell_type": "code",
   "execution_count": 1,
   "id": "d65b077c",
   "metadata": {},
   "outputs": [
    {
     "name": "stdout",
     "output_type": "stream",
     "text": [
      "{'age': 25, 'city': 'New york'}\n"
     ]
    }
   ],
   "source": [
    "# #Delete a list of keys from a dictionary \n",
    "# sample_dict = {\"name\": \"Kelly\",\"age\": 25, \"salary\": 8000, \"city\": \"New york\"} \n",
    "# # Keys to remove \n",
    "# keys = [\"name\", \"salary\"]\n",
    "dict={\"name\": \"Kelly\",\"age\": 25, \"salary\": 8000, \"city\": \"New york\"}\n",
    "keys=['name','salary']\n",
    "for i in keys:\n",
    "    dict.pop(i)\n",
    "print(dict)"
   ]
  },
  {
   "cell_type": "code",
   "execution_count": 2,
   "id": "1939ef5a",
   "metadata": {},
   "outputs": [
    {
     "name": "stdout",
     "output_type": "stream",
     "text": [
      "{'P': 2, 'y': 1, 't': 1, 'h': 1, 'o': 2, 'n': 2, 'r': 2, 'g': 2, 'a': 1, 'm': 2, 'i': 1}\n"
     ]
    }
   ],
   "source": [
    "# Count the frequency of each character in a given string using a dictionary. \n",
    "string='PythonProgramming'\n",
    "dict={}\n",
    "for i in string:\n",
    "    if i not in dict:\n",
    "        dict[i]=1\n",
    "    else:\n",
    "        dict[i]+=1#menas it increasing coount of that char and executes value by addung count of that char\n",
    "print(dict)"
   ]
  },
  {
   "cell_type": "code",
   "execution_count": 5,
   "id": "310fb8f7",
   "metadata": {},
   "outputs": [
    {
     "name": "stdout",
     "output_type": "stream",
     "text": [
      "{1: 'a', 2: 'b', 3: 'c'}\n"
     ]
    }
   ],
   "source": [
    "# Swap keys and values in a dictionary. \n",
    "dict={'a':1,'b':2,'c':3}\n",
    "tem={}\n",
    "for keys,values in dict.items():\n",
    "    tem[values]=keys\n",
    "print(tem)"
   ]
  },
  {
   "cell_type": "code",
   "execution_count": 7,
   "id": "acae5563",
   "metadata": {},
   "outputs": [
    {
     "name": "stdout",
     "output_type": "stream",
     "text": [
      "15\n"
     ]
    }
   ],
   "source": [
    "# 4. Write a program to sum all the values in a dictionary.\n",
    "dict={'a':1,'b':2,'c':3,'d':4,'e':5}\n",
    "sum=0\n",
    "for i in dict:\n",
    "    sum+=dict[i]\n",
    "print(sum)"
   ]
  },
  {
   "cell_type": "code",
   "execution_count": 1,
   "id": "5d89e336",
   "metadata": {},
   "outputs": [
    {
     "name": "stdout",
     "output_type": "stream",
     "text": [
      "{0: {'name': 'abhi', 'roll': '23', 'marks': '89'}, 1: {'name': 'suresh', 'roll': '22', 'marks': '91'}}\n"
     ]
    }
   ],
   "source": [
    "# 5. Create a nested dictionary for student details (name, roll, marks). \n",
    "res={}\n",
    "for i in range(2):\n",
    "    temp={}\n",
    "    temp['name']=input('Enter name:')\n",
    "    temp['roll']=input('Enter roll:')\n",
    "    temp['marks']=input('Enter marks:')\n",
    "    res[i]=temp\n",
    "print(res)\n"
   ]
  },
  {
   "cell_type": "code",
   "execution_count": 2,
   "id": "2186a1d2",
   "metadata": {},
   "outputs": [
    {
     "name": "stdout",
     "output_type": "stream",
     "text": [
      "[('name', 'Kelly'), ('age', 25), ('salary', 8000), ('city', 'New york')]\n"
     ]
    }
   ],
   "source": [
    "# 6. Convert a dictionary to a list of tuples.\n",
    "sample_dict = {\"name\": \"Kelly\",\"age\": 25, \"salary\": 8000, \"city\": \"New york\"}\n",
    "l=[]\n",
    "for i in sample_dict.items():\n",
    "    l+=[i]   \n",
    "print(l)"
   ]
  },
  {
   "cell_type": "code",
   "execution_count": 3,
   "id": "237e02a0",
   "metadata": {},
   "outputs": [
    {
     "name": "stdout",
     "output_type": "stream",
     "text": [
      "{'name': 4, 'age': 3, 'city': 4}\n"
     ]
    }
   ],
   "source": [
    "# 7. Write a program to store names as keys and their lengths as values.\n",
    "dict = {\"name\": \"abhi\",\"age\": 23, \"city\": \"Kakinada\"}\n",
    "temp={}\n",
    "for keys,values in dict.items():\n",
    "    temp[keys]=len(str(keys))\n",
    "print(temp)"
   ]
  },
  {
   "cell_type": "code",
   "execution_count": 4,
   "id": "c1150394",
   "metadata": {},
   "outputs": [
    {
     "name": "stdout",
     "output_type": "stream",
     "text": [
      "{1: 'odd', 2: 'even', 3: 'odd', 4: 'even', 5: 'odd'}\n"
     ]
    }
   ],
   "source": [
    "# 8. Create a dictionary for numbers 1 to 5, where the value is \"even\" if the number is even, and\n",
    "# \"odd\" if the number is odd\n",
    "# Expected Output:\n",
    "# {1: 'odd', 2: 'even', 3: 'odd', 4: 'even', 5: 'odd'}\n",
    "temp={}\n",
    "for i in range(1,6):\n",
    "    if i%2==0:\n",
    "        temp[i]=\"even\"\n",
    "    else:\n",
    "        temp[i]=\"odd\"\n",
    "print(temp)"
   ]
  },
  {
   "cell_type": "code",
   "execution_count": 5,
   "id": "c69fc060",
   "metadata": {},
   "outputs": [
    {
     "name": "stdout",
     "output_type": "stream",
     "text": [
      "{'cat': 'tac', 'dog': 'god', 'bat': 'tab'}\n"
     ]
    }
   ],
   "source": [
    "# Create Reverse Word Dictionary \n",
    "# Given list of words: \n",
    "# words = [\"cat\", \"dog\", \"bat\"] \n",
    "# Create a dictionary with words as keys and their reversed strings as values \n",
    "# Expected Output: \n",
    "# {'cat': 'tac', 'dog': 'god', 'bat': 'tab'}\n",
    "words=['cat','dog','bat']\n",
    "temp={}\n",
    "for i in words:\n",
    "    temp[i]=i[::-1]\n",
    "print(temp)"
   ]
  },
  {
   "cell_type": "code",
   "execution_count": null,
   "id": "6ae8270d",
   "metadata": {},
   "outputs": [],
   "source": []
  }
 ],
 "metadata": {
  "kernelspec": {
   "display_name": "base",
   "language": "python",
   "name": "python3"
  },
  "language_info": {
   "codemirror_mode": {
    "name": "ipython",
    "version": 3
   },
   "file_extension": ".py",
   "mimetype": "text/x-python",
   "name": "python",
   "nbconvert_exporter": "python",
   "pygments_lexer": "ipython3",
   "version": "3.9.12"
  }
 },
 "nbformat": 4,
 "nbformat_minor": 5
}
